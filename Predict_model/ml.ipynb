{
 "cells": [
  {
   "cell_type": "code",
   "execution_count": 1,
   "source": [
    "import numpy as np\r\n",
    "from PIL import Image\r\n",
    "from tensorflow.keras.models import load_model\r\n",
    "\r\n",
    "model = load_model(\"Predict_Model.h5\")\r\n",
    "\r\n",
    "\r\n",
    "def predict(image_path: str) -> int:\r\n",
    "    \"\"\"\r\n",
    "    이미지 파일을 읽어 예측한 숫자를 반환\r\n",
    "    \"\"\"\r\n",
    "\r\n",
    "    resized_data = resize_image(image_path)\r\n",
    "    res = model.predict(resized_data)\r\n",
    "    return int(res.argmax())\r\n",
    "\r\n",
    "\r\n",
    "def resize_image(image_path: str) -> np.ndarray:\r\n",
    "    \"\"\"\r\n",
    "    이미지 파일을 읽어 grayscale 처리하고 28x28 리사이징한 ndarray 데이터를 반환\r\n",
    "    \"\"\"\r\n",
    "\r\n",
    "    with Image.open(image_path) as im:\r\n",
    "        w, h = im.size\r\n",
    "        min_size = min(w, h)\r\n",
    "        if w > h:\r\n",
    "            left, top = (w - min_size) // 2, 0\r\n",
    "        else:\r\n",
    "            left, top = 0, (h - min_size) // 2\r\n",
    "        right = left + min_size\r\n",
    "        bottom = top + min_size\r\n",
    "\r\n",
    "        rect = (left, top, right, bottom)\r\n",
    "        cropped_im = im.crop(rect).convert(\"L\")  # Grayscale\r\n",
    "\r\n",
    "        resized_im = cropped_im.resize((28, 28))\r\n",
    "        resized_pixels = np.resize(resized_im, (1, 784))\r\n",
    "        resized_data = ((np.array(resized_pixels) / 255) - 1) * -1\r\n",
    "\r\n",
    "        return resized_data"
   ],
   "outputs": [],
   "metadata": {}
  }
 ],
 "metadata": {
  "orig_nbformat": 4,
  "language_info": {
   "name": "python",
   "version": "3.6.13",
   "mimetype": "text/x-python",
   "codemirror_mode": {
    "name": "ipython",
    "version": 3
   },
   "pygments_lexer": "ipython3",
   "nbconvert_exporter": "python",
   "file_extension": ".py"
  },
  "kernelspec": {
   "name": "python3",
   "display_name": "Python 3.6.13 64-bit ('Django': conda)"
  },
  "interpreter": {
   "hash": "bae5c4e9a138d615bebbef6bbaa19389068314186934ed77e90100f82a01199c"
  }
 },
 "nbformat": 4,
 "nbformat_minor": 2
}