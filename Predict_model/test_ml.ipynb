{
    "cells": [
        {
            "cell_type": "code",
            "execution_count": 14,
            "source": [
                "import pytest\r\n",
                "from ml import predict\r\n",
                "\r\n",
                "@pytest.mark.parametrize(\"image_path, expected\", [\r\n",
                "    (\"33.jpg\", 3),\r\n",
                "    (\"44.jpg\", 4)\r\n",
                "])\r\n",
                "def test_predict(image_path, expected):\r\n",
                "    assert predict(image_path) == expected"
            ],
            "outputs": [],
            "metadata": {}
        },
        {
            "cell_type": "code",
            "execution_count": 13,
            "source": [
                "import pytest\r\n",
                "from ml import predict\r\n",
                "\r\n",
                "predict(\"33.jpg\") == 3"
            ],
            "outputs": [
                {
                    "output_type": "execute_result",
                    "data": {
                        "text/plain": [
                            "False"
                        ]
                    },
                    "metadata": {},
                    "execution_count": 13
                }
            ],
            "metadata": {}
        },
        {
            "cell_type": "code",
            "execution_count": null,
            "source": [
                "import pytest\r\n",
                "from ml import predict\r\n",
                "\r\n",
                "predict(\"44.jpg\") == 4"
            ],
            "outputs": [],
            "metadata": {}
        }
    ],
    "metadata": {
        "orig_nbformat": 4,
        "language_info": {
            "name": "python",
            "version": "3.6.13",
            "mimetype": "text/x-python",
            "codemirror_mode": {
                "name": "ipython",
                "version": 3
            },
            "pygments_lexer": "ipython3",
            "nbconvert_exporter": "python",
            "file_extension": ".py"
        },
        "kernelspec": {
            "name": "python3",
            "display_name": "Python 3.6.13 64-bit ('Django': conda)"
        },
        "interpreter": {
            "hash": "bae5c4e9a138d615bebbef6bbaa19389068314186934ed77e90100f82a01199c"
        }
    },
    "nbformat": 4,
    "nbformat_minor": 2
}