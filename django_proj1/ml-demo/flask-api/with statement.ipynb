{
 "cells": [
  {
   "cell_type": "code",
   "execution_count": 1,
   "id": "49bbe4bb",
   "metadata": {},
   "outputs": [],
   "source": [
    "# with 절"
   ]
  },
  {
   "cell_type": "code",
   "execution_count": 2,
   "id": "02e9fbca",
   "metadata": {},
   "outputs": [],
   "source": [
    "# open/close : 열었으면 잘 닫아야 합니다."
   ]
  },
  {
   "cell_type": "code",
   "execution_count": 3,
   "id": "5134a5d8",
   "metadata": {},
   "outputs": [],
   "source": [
    "# file, network connection, db connection, ..."
   ]
  },
  {
   "cell_type": "code",
   "execution_count": null,
   "id": "ba136d59",
   "metadata": {},
   "outputs": [],
   "source": [
    "try:\n",
    "    f = open(\"hello.txt\", \"wt\", encoding=\"utf8\")\n",
    "    f.write(\"line1\\n\")\n",
    "    f.write(\"line2\\n\")\n",
    "    1/0  # ZeroDivisionError\n",
    "finally:\n",
    "    f.close()"
   ]
  },
  {
   "cell_type": "code",
   "execution_count": null,
   "id": "cfe2f412",
   "metadata": {},
   "outputs": [],
   "source": [
    "# file 객체는 with절을 지원합니다.\n",
    "\n",
    "with open(\"hello.txt\", \"wt\", encoding=\"utf8\") as f:\n",
    "    f.write(\"line1\\n\")\n",
    "    f.write(\"line2\\n\")\n",
    "    1/0"
   ]
  }
 ],
 "metadata": {
  "kernelspec": {
   "display_name": "Python 3",
   "language": "python",
   "name": "python3"
  },
  "language_info": {
   "codemirror_mode": {
    "name": "ipython",
    "version": 3
   },
   "file_extension": ".py",
   "mimetype": "text/x-python",
   "name": "python",
   "nbconvert_exporter": "python",
   "pygments_lexer": "ipython3",
   "version": "3.9.4"
  }
 },
 "nbformat": 4,
 "nbformat_minor": 5
}
