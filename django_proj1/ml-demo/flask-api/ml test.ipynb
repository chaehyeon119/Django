{
 "cells": [
  {
   "cell_type": "code",
   "execution_count": 2,
   "id": "95c80d26",
   "metadata": {},
   "outputs": [],
   "source": [
    "from ml import predict"
   ]
  },
  {
   "cell_type": "code",
   "execution_count": 3,
   "id": "48567072",
   "metadata": {},
   "outputs": [
    {
     "name": "stdout",
     "output_type": "stream",
     "text": [
      "Predict_Model.h5     ml.py                with statement.ipynb\r\n",
      "\u001b[1m\u001b[36m__pycache__\u001b[m\u001b[m          requirements.txt\r\n",
      "ml test.ipynb        sample-7.jpg\r\n"
     ]
    }
   ],
   "source": [
    "!ls"
   ]
  },
  {
   "cell_type": "code",
   "execution_count": 6,
   "id": "8b174785",
   "metadata": {},
   "outputs": [
    {
     "data": {
      "text/plain": [
       "2"
      ]
     },
     "execution_count": 6,
     "metadata": {},
     "output_type": "execute_result"
    }
   ],
   "source": [
    "predict(\"sample-7.jpg\")"
   ]
  },
  {
   "cell_type": "code",
   "execution_count": 7,
   "id": "919e2331",
   "metadata": {},
   "outputs": [
    {
     "data": {
      "text/plain": [
       "3"
      ]
     },
     "execution_count": 7,
     "metadata": {},
     "output_type": "execute_result"
    }
   ],
   "source": [
    "predict(\"sample-3.png\")"
   ]
  },
  {
   "cell_type": "code",
   "execution_count": null,
   "id": "52c09343",
   "metadata": {},
   "outputs": [],
   "source": []
  }
 ],
 "metadata": {
  "kernelspec": {
   "display_name": "Python 3",
   "language": "python",
   "name": "python3"
  },
  "language_info": {
   "codemirror_mode": {
    "name": "ipython",
    "version": 3
   },
   "file_extension": ".py",
   "mimetype": "text/x-python",
   "name": "python",
   "nbconvert_exporter": "python",
   "pygments_lexer": "ipython3",
   "version": "3.9.4"
  }
 },
 "nbformat": 4,
 "nbformat_minor": 5
}
